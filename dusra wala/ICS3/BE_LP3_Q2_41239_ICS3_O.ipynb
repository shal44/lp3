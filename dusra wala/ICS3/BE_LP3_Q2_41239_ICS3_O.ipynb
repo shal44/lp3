{
  "cells": [
    {
      "cell_type": "code",
      "execution_count": 1,
      "metadata": {
        "colab": {
          "base_uri": "https://localhost:8080/"
        },
        "id": "rjXi9dfDo1M1",
        "outputId": "ec7e1ccd-67e1-430d-8a49-1acb165669b4"
      },
      "outputs": [
        {
          "name": "stdout",
          "output_type": "stream",
          "text": [
            "The Value of P is :23\n",
            "The Value of G is :9\n",
            "The Private Key a for Alice is :4\n",
            "The Private Key b for Bob is :3\n",
            "Secret key for the Alice is : 9\n",
            "Secret Key for the Bob is : 9\n"
          ]
        }
      ],
      "source": [
        "from random import randint\n",
        "\n",
        "if __name__ == '__main__':\n",
        "\n",
        "\t# Both the persons will be agreed upon the\n",
        "\t# public keys G and P\n",
        "\t# A prime number P is taken\n",
        "\tP = 23\n",
        "\t\n",
        "\t# A primitve root for P, G is taken\n",
        "\tG = 9\n",
        "\t\n",
        "\t\n",
        "\tprint('The Value of P is :%d'%(P))\n",
        "\tprint('The Value of G is :%d'%(G))\n",
        "\t\n",
        "\t# Alice will choose the private key a\n",
        "\ta = 4\n",
        "\tprint('The Private Key a for Alice is :%d'%(a))\n",
        "\t\n",
        "\t# gets the generated key\n",
        "\tx = int(pow(G,a,P))\n",
        "\t\n",
        "\t# Bob will choose the private key b\n",
        "\tb = 3\n",
        "\tprint('The Private Key b for Bob is :%d'%(b))\n",
        "\t\n",
        "\t# gets the generated key\n",
        "\ty = int(pow(G,b,P))\n",
        "\t\n",
        "\t\n",
        "\t# Secret key for Alice\n",
        "\tka = int(pow(y,a,P))\n",
        "\t\n",
        "\t# Secret key for Bob\n",
        "\tkb = int(pow(x,b,P))\n",
        "\t\n",
        "\tprint('Secret key for the Alice is : %d'%(ka))\n",
        "\tprint('Secret Key for the Bob is : %d'%(kb))\n"
      ]
    }
  ],
  "metadata": {
    "colab": {
      "name": "BE_LP3_41239_ICS_3_O.ipynb",
      "provenance": []
    },
    "interpreter": {
      "hash": "b070daac91a8fb5db6e2b950f88392b3f5a34505170968017e8cb31a89165e05"
    },
    "kernelspec": {
      "display_name": "Python 3.7.9 ('.venv': venv)",
      "language": "python",
      "name": "python3"
    },
    "language_info": {
      "codemirror_mode": {
        "name": "ipython",
        "version": 3
      },
      "file_extension": ".py",
      "mimetype": "text/x-python",
      "name": "python",
      "nbconvert_exporter": "python",
      "pygments_lexer": "ipython3",
      "version": "3.7.9"
    }
  },
  "nbformat": 4,
  "nbformat_minor": 0
}

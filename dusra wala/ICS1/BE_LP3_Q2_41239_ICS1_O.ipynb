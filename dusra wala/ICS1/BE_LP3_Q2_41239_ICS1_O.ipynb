{
  "cells": [
    {
      "cell_type": "code",
      "execution_count": 2,
      "metadata": {
        "colab": {
          "base_uri": "https://localhost:8080/"
        },
        "id": "UcRzJAEdVJBw",
        "outputId": "e53765db-7d65-4413-f411-54e6283df9bf"
      },
      "outputs": [
        {
          "ename": "Exception",
          "evalue": "Check the input",
          "output_type": "error",
          "traceback": [
            "\u001b[1;31m---------------------------------------------------------------------------\u001b[0m",
            "\u001b[1;31mException\u001b[0m                                 Traceback (most recent call last)",
            "\u001b[1;32m~\\AppData\\Local\\Temp\\ipykernel_16900\\3396308910.py\u001b[0m in \u001b[0;36m<module>\u001b[1;34m\u001b[0m\n\u001b[0;32m     68\u001b[0m \u001b[0mkey\u001b[0m \u001b[1;33m=\u001b[0m \u001b[0minput\u001b[0m\u001b[1;33m(\u001b[0m\u001b[1;34m\"Enter a 10-bit key: \"\u001b[0m\u001b[1;33m)\u001b[0m\u001b[1;33m\u001b[0m\u001b[1;33m\u001b[0m\u001b[0m\n\u001b[0;32m     69\u001b[0m \u001b[1;32mif\u001b[0m \u001b[0mlen\u001b[0m\u001b[1;33m(\u001b[0m\u001b[0mkey\u001b[0m\u001b[1;33m)\u001b[0m \u001b[1;33m!=\u001b[0m \u001b[1;36m10\u001b[0m\u001b[1;33m:\u001b[0m\u001b[1;33m\u001b[0m\u001b[1;33m\u001b[0m\u001b[0m\n\u001b[1;32m---> 70\u001b[1;33m     \u001b[1;32mraise\u001b[0m \u001b[0mException\u001b[0m\u001b[1;33m(\u001b[0m\u001b[1;34m\"Check the input\"\u001b[0m\u001b[1;33m)\u001b[0m\u001b[1;33m\u001b[0m\u001b[1;33m\u001b[0m\u001b[0m\n\u001b[0m\u001b[0;32m     71\u001b[0m \u001b[1;33m\u001b[0m\u001b[0m\n\u001b[0;32m     72\u001b[0m \u001b[0mplaintext\u001b[0m \u001b[1;33m=\u001b[0m \u001b[0minput\u001b[0m\u001b[1;33m(\u001b[0m\u001b[1;34m\"Enter 8-bit plaintext: \"\u001b[0m\u001b[1;33m)\u001b[0m\u001b[1;33m\u001b[0m\u001b[1;33m\u001b[0m\u001b[0m\n",
            "\u001b[1;31mException\u001b[0m: Check the input"
          ]
        }
      ],
      "source": [
        "P10 = (3, 5, 2, 7, 4, 10, 1, 9, 8, 6)\n",
        "P8 = (6, 3, 7, 4, 8, 5, 10, 9)\n",
        "P4 = (2, 4, 3, 1)\n",
        "\n",
        "IP = (2, 6, 3, 1, 4, 8, 5, 7)\n",
        "IPi = (4, 1, 3, 5, 7, 2, 8, 6)\n",
        "\n",
        "E = (4, 1, 2, 3, 2, 3, 4, 1)\n",
        "\n",
        "S0 = [\n",
        "        [1, 0, 3, 2],\n",
        "        [3, 2, 1, 0],\n",
        "        [0, 2, 1, 3],\n",
        "        [3, 1, 3, 2]\n",
        "     ]\n",
        "\n",
        "S1 = [\n",
        "        [0, 1, 2, 3],\n",
        "        [2, 0, 1, 3],\n",
        "        [3, 0, 1, 0],\n",
        "        [2, 1, 0, 3]\n",
        "     ]\n",
        "\n",
        "def permutation(pattern, key):\n",
        "    permuted = \"\"\n",
        "\n",
        "    for i in pattern:\n",
        "        permuted += key[i-1]\n",
        "\n",
        "    return permuted\n",
        "\n",
        "def generate_first(left, right):\n",
        "    left = left[1:] + left[:1]\n",
        "    right = right[1:] + right[:1]\n",
        "    key = left + right\n",
        "\n",
        "    return permutation(P8, key)\n",
        "\n",
        "def generate_second(left, right):\n",
        "    left = left[3:] + left[:3]\n",
        "    right = right[3:] + right[:3]\n",
        "    key = left + right\n",
        "\n",
        "    return permutation(P8, key)\n",
        "\n",
        "def transform(right, key):\n",
        "    extended = permutation(E, right)\n",
        "    xor_cipher = bin(int(extended, 2) ^ int(key, 2))[2:].zfill(8)\n",
        "    xor_left = xor_cipher[:4]\n",
        "    xor_right = xor_cipher[4:]\n",
        "\n",
        "    new_left = Sbox(xor_left, S0)\n",
        "    new_right = Sbox(xor_right, S1)\n",
        "\n",
        "    return permutation(P4, new_left + new_right)\n",
        "\n",
        "def Sbox(data, box):\n",
        "    row = int(data[0] + data[3], 2)\n",
        "    column = int(data[1] + data[2], 2)\n",
        "\n",
        "    return bin(box[row][column])[2:].zfill(4)\n",
        "\n",
        "def encrypt(left, right, key):\n",
        "    cipher = int(left, 2) ^ int(transform(right, key), 2)\n",
        "\n",
        "    return right, bin(cipher)[2:].zfill(4)\n",
        "\n",
        "key = input(\"Enter a 10-bit key: \")\n",
        "if len(key) != 10:\n",
        "    raise Exception(\"Check the input\")\n",
        "\n",
        "plaintext = input(\"Enter 8-bit plaintext: \")\n",
        "if len(plaintext) != 8:\n",
        "    raise Exception(\"Check the input\")\n",
        "\n",
        "p10key = permutation(P10, key)\n",
        "print(\"First Permutation\")\n",
        "print(p10key)\n",
        "left_key = p10key[:len(p10key)//2]\n",
        "print(\"Left key\",left_key)\n",
        "right_key = p10key[len(p10key)//2:]\n",
        "print(\"Right key\",right_key)\n",
        "first_key = generate_first(left_key, right_key)\n",
        "print(\"*****\")\n",
        "print(\"First key\")\n",
        "print(first_key)\n",
        "second_key = generate_second(left_key, right_key)\n",
        "print(\"*****\")\n",
        "print(\"Second key\")\n",
        "print(second_key)\n",
        "initial_permutation = permutation(IP, plaintext)\n",
        "print(\"Initial Permutation\",initial_permutation)\n",
        "left_data = initial_permutation[:len(initial_permutation)//2]\n",
        "right_data = initial_permutation[len(initial_permutation)//2:]\n",
        "\n",
        "left, right = encrypt(left_data, right_data, first_key)\n",
        "left, right = encrypt(left, right, second_key)\n",
        "\n",
        "print(\"Ciphertext:\", permutation(IPi, left + right))"
      ]
    }
  ],
  "metadata": {
    "colab": {
      "name": "BE_LP3_Q2_41239_ICS1_O.ipynb",
      "provenance": []
    },
    "interpreter": {
      "hash": "b070daac91a8fb5db6e2b950f88392b3f5a34505170968017e8cb31a89165e05"
    },
    "kernelspec": {
      "display_name": "Python 3.7.9 ('.venv': venv)",
      "language": "python",
      "name": "python3"
    },
    "language_info": {
      "codemirror_mode": {
        "name": "ipython",
        "version": 3
      },
      "file_extension": ".py",
      "mimetype": "text/x-python",
      "name": "python",
      "nbconvert_exporter": "python",
      "pygments_lexer": "ipython3",
      "version": "3.7.9"
    }
  },
  "nbformat": 4,
  "nbformat_minor": 0
}

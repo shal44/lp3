{
 "cells": [
  {
   "cell_type": "markdown",
   "metadata": {},
   "source": [
    "# KNN Classification"
   ]
  },
  {
   "cell_type": "code",
   "execution_count": 1,
   "metadata": {},
   "outputs": [],
   "source": [
    "import numpy as np\n",
    "import pandas as pd\n",
    "import math"
   ]
  },
  {
   "cell_type": "code",
   "execution_count": 2,
   "metadata": {},
   "outputs": [],
   "source": [
    "x=np.array([[2,4],[4,2],[4,4],[4,6],[6,2],[6,4]])\n",
    "y=np.array([0,0,1,0,1,0])  #  0=negative 1=positive class"
   ]
  },
  {
   "cell_type": "code",
   "execution_count": 3,
   "metadata": {},
   "outputs": [],
   "source": [
    "def eucledian_distance(x1,y1,x2,y2):\n",
    "    return math.sqrt((x1-x2)**2+(y1-y2)**2)"
   ]
  },
  {
   "cell_type": "code",
   "execution_count": 4,
   "metadata": {},
   "outputs": [],
   "source": [
    "def chooseK(arr):\n",
    "    print(\"Size of array :\",arr.shape[0])\n",
    "    k=round(math.sqrt(arr.shape[0]))\n",
    "    if(k%2==0):\n",
    "        k=k+1;\n",
    "    #k should be odd so that classfication can be done properly(No chance of 50%-50% classification)\n",
    "    print(\"Choosen value of K : \",k)\n",
    "    return k;"
   ]
  },
  {
   "cell_type": "code",
   "execution_count": null,
   "metadata": {},
   "outputs": [],
   "source": []
  },
  {
   "cell_type": "code",
   "execution_count": 5,
   "metadata": {},
   "outputs": [
    {
     "name": "stdout",
     "output_type": "stream",
     "text": [
      "Size of array : 6\n",
      "Choosen value of K :  3\n"
     ]
    },
    {
     "data": {
      "text/plain": [
       "3"
      ]
     },
     "execution_count": 5,
     "metadata": {},
     "output_type": "execute_result"
    }
   ],
   "source": [
    "chooseK(x)"
   ]
  },
  {
   "cell_type": "code",
   "execution_count": 6,
   "metadata": {},
   "outputs": [],
   "source": [
    "def classifyPoint(x,y,point,k):\n",
    "    inputSize=x.shape[0];\n",
    "    \n",
    "    distance=[]; #for string eucledian distance\n",
    "    for i in range(inputSize):\n",
    "        distance.append(eucledian_distance(point[0],point[1],x[i][0],x[i][1]));\n",
    "        \n",
    "    mergedList=list(zip(distance,y));\n",
    "    mergedList.sort(); #sort according to increasing distance\n",
    "    \n",
    "    freq0=0; #Freq of group 0 (negative)\n",
    "    freq1=0; #Freq of group 1 (positive)\n",
    "    \n",
    "    for i in range(k): #Iterate for k neighbours\n",
    "        if(mergedList[i][1]==0):\n",
    "            freq0=freq0+1;\n",
    "        elif (mergedList[i][1]==1):\n",
    "            freq1=freq1+1;\n",
    "    \n",
    "    if(freq0>freq1):\n",
    "        return 0;\n",
    "    else:\n",
    "        return 1; "
   ]
  },
  {
   "cell_type": "code",
   "execution_count": 7,
   "metadata": {},
   "outputs": [],
   "source": [
    "def main():\n",
    "    \n",
    "    print(\"Input X coordinate\");\n",
    "    x_co=int(181)\n",
    "    print(\"Enter Y coordinate \")\n",
    "    y_co=int(62)\n",
    "\n",
    "    pointt=(x_co,y_co)\n",
    "    print(pointt)\n",
    "    k=chooseK(x);\n",
    "    label=\"--\"\n",
    "    if(classifyPoint(x=x,y=y,point=pointt,k=k)==0):\n",
    "        label=\"Negative\";\n",
    "    else:\n",
    "        label:\"Positive\";\n",
    "        \n",
    "    print(\"Point {} belongs to {} class\".format(pointt,label))\n",
    "    print (classifyPoint(x=x,y=y,point=pointt,k=k))\n",
    "    #classifyPoint(x=x,y=y,point=pointt,k=k)"
   ]
  },
  {
   "cell_type": "code",
   "execution_count": 8,
   "metadata": {},
   "outputs": [
    {
     "name": "stdout",
     "output_type": "stream",
     "text": [
      "Input X coordinate\n",
      "Enter Y coordinate \n",
      "(181, 62)\n",
      "Size of array : 6\n",
      "Choosen value of K :  3\n",
      "Point (181, 62) belongs to Negative class\n",
      "0\n"
     ]
    }
   ],
   "source": [
    "main()"
   ]
  },
  {
   "cell_type": "raw",
   "metadata": {},
   "source": [
    "#!/usr/bin/env python3\n",
    "# -*- coding: utf-8 -*-\n",
    "#built in classifier---just for reference\n",
    "\"\"\"\n",
    "#\n",
    "@author: VNKDJ5\n",
    "\"\"\"\n",
    "\n",
    "import sklearn\n",
    "import numpy as np\n",
    "import pandas as pd\n",
    "\n",
    "data = pd.read_csv('knngraph.csv')\n",
    "\n",
    "x = data.values[:,0:2]\n",
    "y = data.values[:,2]\n",
    "print(x)\n",
    "print(y)\n",
    "from sklearn.neighbors import KNeighborsClassifier\n",
    "neigh = KNeighborsClassifier(n_neighbors=3,weights=\"distance\")\n",
    "neigh.fit(x, y) \n",
    "print(neigh.predict([[5,3]]))\n",
    "print(neigh.predict([[6,6]]))\n",
    "print(neigh.predict([[6,2]]))"
   ]
  },
  {
   "cell_type": "code",
   "execution_count": 9,
   "metadata": {},
   "outputs": [
    {
     "data": {
      "text/plain": [
       "42"
      ]
     },
     "execution_count": 9,
     "metadata": {},
     "output_type": "execute_result"
    }
   ],
   "source": [
    "42\n"
   ]
  }
 ],
 "metadata": {
  "interpreter": {
   "hash": "b070daac91a8fb5db6e2b950f88392b3f5a34505170968017e8cb31a89165e05"
  },
  "kernelspec": {
   "display_name": "Python 3.7.9 ('.venv': venv)",
   "language": "python",
   "name": "python3"
  },
  "language_info": {
   "codemirror_mode": {
    "name": "ipython",
    "version": 3
   },
   "file_extension": ".py",
   "mimetype": "text/x-python",
   "name": "python",
   "nbconvert_exporter": "python",
   "pygments_lexer": "ipython3",
   "version": "3.7.9"
  }
 },
 "nbformat": 4,
 "nbformat_minor": 2
}
